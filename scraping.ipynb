{
 "cells": [
  {
   "cell_type": "code",
   "execution_count": 1,
   "metadata": {},
   "outputs": [],
   "source": [
    "import praw\n",
    "import pandas as pd"
   ]
  },
  {
   "cell_type": "code",
   "execution_count": 2,
   "metadata": {},
   "outputs": [],
   "source": [
    "reddit_read_only = praw.Reddit(client_id=\"kBKOPHb6oh6KmTrfzOhagQ\",client_secret=\"q-YHEfYk9jmh-kBnCKJrDyDhDGp2tA\",user_agent=\"Abhay Dhek\")       "
   ]
  },
  {
   "cell_type": "code",
   "execution_count": 3,
   "metadata": {},
   "outputs": [],
   "source": [
    "subreddit = reddit_read_only.subreddit(\"mentalhealth\")"
   ]
  },
  {
   "cell_type": "code",
   "execution_count": 4,
   "metadata": {},
   "outputs": [
    {
     "name": "stdout",
     "output_type": "stream",
     "text": [
      "Display Name: mentalhealth\n"
     ]
    }
   ],
   "source": [
    "# Display the name of the Subreddit\n",
    "print(\"Display Name:\", subreddit.display_name)"
   ]
  },
  {
   "cell_type": "code",
   "execution_count": 5,
   "metadata": {},
   "outputs": [
    {
     "name": "stdout",
     "output_type": "stream",
     "text": [
      "Title: Mental Health\n"
     ]
    }
   ],
   "source": [
    "# Display the title of the Subreddit\n",
    "print(\"Title:\", subreddit.title)"
   ]
  },
  {
   "cell_type": "code",
   "execution_count": 6,
   "metadata": {},
   "outputs": [
    {
     "name": "stdout",
     "output_type": "stream",
     "text": [
      "Description: **Welcome!**\n",
      "This is a safe place to discuss, vent, support, and share information about mental health, illness, and wellness. \n",
      "\n",
      "*Together, we make this community great. Thank you for being here. Please actively participate in the discussions. Please show respect and empathy when replying to posts.*\n",
      "\n",
      "###Rules\n",
      "\n",
      "1. **All promotional, survey, research study, or business posts require moderator approval.** Please message the moderators using modmail to check if your post is suitable. Avoid posting direct links without some context.\n",
      "\n",
      "1. Trolls, spammers, bullies, etc. are not welcome. Treat others with respect.\n",
      "\n",
      "1.  In your post, **state what country you are from** if you would like members to share tips/resources relevant to your location.\n",
      "\n",
      "1.  Help improve this subreddit!\n",
      "Send your ideas and suggestions to the moderators\n",
      "\n",
      "1.  Mental Health FAQ:\n",
      "[Frequently Asked Questions & Answers](https://www.reddit.com/r/mentalhealth/comments/42394m/we_get_a_lot_of_the_same_sort_of_questions_on/) \n",
      "\n",
      "\n",
      "1.  Post Pinning Policy:\n",
      "Posts are not sponsored, preferred or promoted. All new posts are automatically pinned / made announcements for a limited time to increase exposure and promote discussion in the comments. \n",
      "\n",
      "\n",
      "\n",
      "###Related Subreddits\n",
      "\n",
      "####Abuse: \n",
      ">* [Bullying](http://www.reddit.com/r/bullying/)\n",
      ">* [Survivors of Abuse](http://reddit.com/r/survivorsofabuse)\n",
      ">* [Rape Support](http://www.reddit.com/r/rapecounseling)\n",
      "\n",
      "####Advice & Inspiration: \n",
      ">* [Get Motivated](http://reddit.com/r/GetMotivated)\n",
      ">* [Need Advice](http://reddit.com/r/needadvice)\n",
      ">* [Off My Chest](http://reddit.com/r/OffMyChest)\n",
      ">* [Relationship Advice](http://reddit.com/r/relationship_advice)\n",
      "\n",
      "####Hardship: \n",
      ">* [Getting Over It](http://reddit.com/r/getting_over_it)\n",
      ">* [Hardship Mates](http://reddit.com/r/hardshipmates)\n",
      ">* [Make Me Feel Better](http://reddit.com/r/MMFB)\n",
      "\n",
      "####Mental Health: \n",
      ">* [Addiction](http://www.reddit.com/r/addiction)\n",
      ">* [Alcoholism](http://reddit.com/r/alcoholism)\n",
      ">* [Anger](http://www.reddit.com/r/anger)\n",
      ">* [AD(H)D](http://reddit.com/r/adhd)\n",
      ">* [Agoraphobia](http://reddit.com/r/Agoraphobia)\n",
      ">* [Anxiety - General](http://reddit.com/r/anxiety)\n",
      ">* [Anxiety - Panic Disorders](http://reddit.com/r/panicparty)\n",
      ">* [Anxiety - Social Anxiety](http://reddit.com/r/socialanxiety)\n",
      ">* [Bipolar Disorder](http://reddit.com/r/bipolarreddit)\n",
      ">* [Bipolar Significant Others](http://www.reddit.com/r/BipolarSOs)\n",
      ">* [Borderline Personality Disorder](http://reddit.com/r/bpd) \n",
      ">* [Depersonalization & De-realization](http://www.reddit.com/r/dpdr)\n",
      ">* [Depression](http://reddit.com/r/depression)\n",
      ">* [Eating Disorders](http://reddit.com/r/EatingDisorders)\n",
      ">* [Maladaptive Dreaming](http://www.reddit.com/r/MaladaptiveDreaming)\n",
      ">* [Mental Health Support](http://www.reddit.com/r/mentalhealth)\n",
      ">* [Obsessive-Compulsive Disorder (OCD)](http://www.reddit.com/r/ocd)\n",
      ">* [Psychosis](http://reddit.com/r/psychoticreddit)\n",
      ">* [Schizophrenia](http://www.reddit.com/r/schizophrenia)\n",
      ">* [Selective Mutism](http://reddit.com/r/selectivemutism)\n",
      ">* [Self Harm](http://reddit.com/r/stopselfharm)\n",
      ">* [Suicide](http://reddit.com/r/suicidewatch)\n",
      ">* [Trauma](http://reddit.com/r/traumatoolbox)\n",
      "\n",
      "\n",
      "####Self Help: \n",
      ">* [Feel Good](http://reddit.com/r/feelgood)\n",
      ">* [Psychology](http://reddit.com/r/psychology)\n",
      ">* [Meditation](http://reddit.com/r/meditation)\n",
      ">* [Self Help](http://www.reddit.com/r/selfhelp)\n",
      ">* [Stop Drinking](http://www.reddit.com/r/stopdrinking)\n",
      ">* [Zen Habits](http://reddit.com/r/ZenHabits)\n",
      "\n",
      "\n",
      "\n",
      "###About Us\n",
      "\n",
      "This subreddit is moderated by volunteers of the Mental Health community\n"
     ]
    }
   ],
   "source": [
    "# Display the description of the Subreddit\n",
    "print(\"Description:\", subreddit.description)"
   ]
  },
  {
   "cell_type": "code",
   "execution_count": 7,
   "metadata": {},
   "outputs": [
    {
     "name": "stdout",
     "output_type": "stream",
     "text": [
      "Elections and Politics\n",
      "\n",
      "r/MentalHealth is looking for moderators\n",
      "\n",
      "Christmas is a horrible time\n",
      "\n",
      "Has anyone else called 911 because of panic attack (anxiety attack)\n",
      "\n",
      "My friend told me that he tried to kill himself a month ago after breaking up with his girlfriend. He feels awful about it, however he's worried his parents will find out and put him in the mental hospital. What should I do?\n",
      "\n"
     ]
    }
   ],
   "source": [
    "for post in subreddit.hot(limit=5):\n",
    "    print(post.title)\n",
    "    print()"
   ]
  },
  {
   "cell_type": "code",
   "execution_count": 8,
   "metadata": {},
   "outputs": [],
   "source": [
    "from datetime import datetime"
   ]
  },
  {
   "cell_type": "code",
   "execution_count": 9,
   "metadata": {},
   "outputs": [
    {
     "name": "stdout",
     "output_type": "stream",
     "text": [
      "Collected 42597 comments.\n"
     ]
    }
   ],
   "source": [
    "comments_data = []\n",
    "\n",
    "# Fetch posts\n",
    "posts = subreddit.search(query=\"*\", time_filter=\"all\", limit=None)\n",
    "\n",
    "for post in posts:\n",
    "    post.comments.replace_more(limit=0)  # This removes 'MoreComments' objects\n",
    "    \n",
    "    for comment in post.comments.list():\n",
    "        # Add comment details\n",
    "        comments_data.append({\n",
    "            \"Username\": comment.author.name if comment.author else \"Deleted\",\n",
    "            \"Date\": comment.created_utc,  # UTC timestamp\n",
    "            \"Post Title\": post.title,\n",
    "            \"Comment\": comment.body\n",
    "        })\n",
    "\n",
    "# Convert to DataFrame\n",
    "comments_df = pd.DataFrame(comments_data)\n",
    "\n",
    "# Convert 'Date' from UTC to a readable format\n",
    "comments_df['Timestamp'] = pd.to_datetime(comments_df['Date'], unit='s')\n",
    "comments_df.drop('Date', axis=1, inplace=True)\n",
    "\n",
    "# Save to CSV\n",
    "comments_df.to_csv(\"Reddit_Comments.csv\", index=False)\n",
    "\n",
    "# Print summary\n",
    "print(f\"Collected {len(comments_df)} comments.\")"
   ]
  }
 ],
 "metadata": {
  "kernelspec": {
   "display_name": "base",
   "language": "python",
   "name": "python3"
  },
  "language_info": {
   "codemirror_mode": {
    "name": "ipython",
    "version": 3
   },
   "file_extension": ".py",
   "mimetype": "text/x-python",
   "name": "python",
   "nbconvert_exporter": "python",
   "pygments_lexer": "ipython3",
   "version": "3.9.13"
  }
 },
 "nbformat": 4,
 "nbformat_minor": 2
}
